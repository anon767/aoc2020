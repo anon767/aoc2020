{
 "cells": [
  {
   "cell_type": "code",
   "execution_count": 116,
   "metadata": {},
   "outputs": [],
   "source": [
    "def get_input():\n",
    "    f = open(\"input.txt\", \"r\")\n",
    "    inp = f.read()\n",
    "    inp = inp.split(\"\\n\")[:-1]\n",
    "    params = list(map(lambda x: list(x.split(\" \")), inp))\n",
    "    for x in params:\n",
    "        x.append(0)\n",
    "    return params"
   ]
  },
  {
   "cell_type": "code",
   "execution_count": null,
   "metadata": {},
   "outputs": [],
   "source": []
  },
  {
   "cell_type": "code",
   "execution_count": 121,
   "metadata": {},
   "outputs": [],
   "source": [
    "def run_program(code):\n",
    "    possible_changes = []\n",
    "    acc = 0\n",
    "    program_pointer = 0\n",
    "    while program_pointer < len(code):\n",
    "        current = code[program_pointer]\n",
    "        current[2] += 1\n",
    "        if current[2] > 1:\n",
    "            print(\"executed {} a second time, accumulator {}\".format(program_pointer, acc))\n",
    "            return False, possible_changes\n",
    "        if current[0] == \"jmp\":\n",
    "                possible_changes.append(program_pointer)\n",
    "                program_pointer += int(current[1])\n",
    "        elif current[0] == \"acc\":\n",
    "                acc += int(current[1])\n",
    "                program_pointer += 1\n",
    "        elif current[0] == \"nop\":\n",
    "                possible_changes.append(program_pointer)\n",
    "                program_pointer += 1\n",
    "    return True, acc\n"
   ]
  },
  {
   "cell_type": "code",
   "execution_count": 122,
   "metadata": {},
   "outputs": [
    {
     "name": "stdout",
     "output_type": "stream",
     "text": [
      "executed 47 a second time, accumulator 1501\n"
     ]
    }
   ],
   "source": [
    "params = get_input()\n",
    "err, changes = run_program(params)"
   ]
  },
  {
   "cell_type": "code",
   "execution_count": 123,
   "metadata": {},
   "outputs": [
    {
     "name": "stdout",
     "output_type": "stream",
     "text": [
      "executed 47 a second time, accumulator 1501\n",
      "executed 291 a second time, accumulator 1486\n",
      "executed 167 a second time, accumulator 1584\n",
      "executed 477 a second time, accumulator 1521\n",
      "executed 47 a second time, accumulator 1359\n",
      "executed 47 a second time, accumulator 862\n",
      "executed 47 a second time, accumulator 1501\n",
      "executed 47 a second time, accumulator 927\n",
      "executed 47 a second time, accumulator 1268\n",
      "executed 47 a second time, accumulator 1470\n",
      "terminated normally, accumulator 509\n"
     ]
    }
   ],
   "source": [
    "for x in changes:\n",
    "    params = get_input()\n",
    "    if params[x][0] == \"jmp\":\n",
    "        params[x][0] = \"nop\"\n",
    "    elif params[x][0] == \"nop\":\n",
    "        params[x][0] == \"jmp\"\n",
    "    err, _acc = run_program(params)\n",
    "    if err:\n",
    "        print(\"terminated normally, accumulator {}\".format(_acc))\n",
    "        break"
   ]
  },
  {
   "cell_type": "code",
   "execution_count": null,
   "metadata": {},
   "outputs": [],
   "source": []
  }
 ],
 "metadata": {
  "kernelspec": {
   "display_name": "Python 3",
   "language": "python",
   "name": "python3"
  },
  "language_info": {
   "codemirror_mode": {
    "name": "ipython",
    "version": 3
   },
   "file_extension": ".py",
   "mimetype": "text/x-python",
   "name": "python",
   "nbconvert_exporter": "python",
   "pygments_lexer": "ipython3",
   "version": "3.7.9"
  }
 },
 "nbformat": 4,
 "nbformat_minor": 4
}

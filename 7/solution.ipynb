{
 "cells": [
  {
   "cell_type": "code",
   "execution_count": 95,
   "metadata": {},
   "outputs": [],
   "source": [
    "f = open(\"input.txt\", \"r\")\n",
    "inp = f.read()\n",
    "\n",
    "inp = inp.split(\"\\n\")[:-1]"
   ]
  },
  {
   "cell_type": "markdown",
   "metadata": {},
   "source": [
    "# Part 1"
   ]
  },
  {
   "cell_type": "code",
   "execution_count": 88,
   "metadata": {},
   "outputs": [],
   "source": [
    "def get_direct_containable(bag):\n",
    "    first = []\n",
    "    for rule in inp:\n",
    "        if rule.startswith(bag):\n",
    "            continue\n",
    "        if bag in rule:\n",
    "            name = rule.split(\"bags\")[0].rstrip()\n",
    "            first.append(name)\n",
    "    return list(set(first))\n",
    "\n"
   ]
  },
  {
   "cell_type": "code",
   "execution_count": 83,
   "metadata": {},
   "outputs": [
    {
     "name": "stdout",
     "output_type": "stream",
     "text": [
      "['bright white', 'muted yellow']\n",
      "['bright white', 'dark orange', 'light red']\n",
      "['bright white', 'dark orange']\n",
      "['bright white']\n",
      "['dark orange', 'light red']\n",
      "['dark orange']\n"
     ]
    }
   ],
   "source": [
    "stack = get_direct_containable(\"shiny gold\")\n",
    "results = []\n",
    "while not stack == []:\n",
    "    print(stack)\n",
    "    bag = stack.pop()\n",
    "    results.append(bag)\n",
    "    for x in get_direct_containable(bag):\n",
    "        stack.append(x)\n",
    "    \n",
    "\n"
   ]
  },
  {
   "cell_type": "code",
   "execution_count": 84,
   "metadata": {},
   "outputs": [
    {
     "data": {
      "text/plain": [
       "4"
      ]
     },
     "execution_count": 84,
     "metadata": {},
     "output_type": "execute_result"
    }
   ],
   "source": [
    "len(set(results))"
   ]
  },
  {
   "cell_type": "markdown",
   "metadata": {},
   "source": [
    "# Part 2"
   ]
  },
  {
   "cell_type": "code",
   "execution_count": 96,
   "metadata": {},
   "outputs": [],
   "source": [
    "def get_direct_containing(bag, multiplier=1):\n",
    "    first = []\n",
    "    for rule in inp:\n",
    "        if not rule.startswith(bag):\n",
    "            continue\n",
    "        if \"no other\" in rule:\n",
    "            continue\n",
    "        after_contain = rule.split(\"contain\")[1]\n",
    "        all_contains = after_contain.split(\",\")\n",
    "        for seperated in all_contains:\n",
    "            before_bag = seperated.split(\"bags\")[0].strip()\n",
    "            amount = before_bag[0]\n",
    "            name = before_bag.replace(amount, \"\").strip()\n",
    "            first.append((name, int(amount)*multiplier))\n",
    "    return first"
   ]
  },
  {
   "cell_type": "code",
   "execution_count": 97,
   "metadata": {},
   "outputs": [
    {
     "data": {
      "text/plain": [
       "12414"
      ]
     },
     "execution_count": 97,
     "metadata": {},
     "output_type": "execute_result"
    }
   ],
   "source": [
    "stack = get_direct_containing(\"shiny gold\")\n",
    "result = 0\n",
    "while not stack == []:\n",
    "    bag = stack.pop()\n",
    "    result += bag[1]\n",
    "    for x in get_direct_containing(bag[0], bag[1]):\n",
    "        stack.append(x)\n",
    "result"
   ]
  },
  {
   "cell_type": "code",
   "execution_count": null,
   "metadata": {},
   "outputs": [],
   "source": []
  }
 ],
 "metadata": {
  "kernelspec": {
   "display_name": "Python 3",
   "language": "python",
   "name": "python3"
  },
  "language_info": {
   "codemirror_mode": {
    "name": "ipython",
    "version": 3
   },
   "file_extension": ".py",
   "mimetype": "text/x-python",
   "name": "python",
   "nbconvert_exporter": "python",
   "pygments_lexer": "ipython3",
   "version": "3.7.9"
  }
 },
 "nbformat": 4,
 "nbformat_minor": 4
}

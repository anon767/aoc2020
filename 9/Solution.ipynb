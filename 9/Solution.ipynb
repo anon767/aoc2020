{
 "cells": [
  {
   "cell_type": "code",
   "execution_count": 164,
   "metadata": {},
   "outputs": [],
   "source": [
    "PREAMBLE = 25\n",
    "f = open(\"input.txt\", \"r\")\n",
    "inp = f.read()\n",
    "inp = inp.split(\"\\n\")[:-1]\n",
    "inp = list(map(int, inp))"
   ]
  },
  {
   "cell_type": "code",
   "execution_count": 165,
   "metadata": {},
   "outputs": [],
   "source": [
    "def can_be_summed(inp, preamble):\n",
    "    for x in preamble:\n",
    "        for y in preamble:\n",
    "            if x!=y and x+y==inp:\n",
    "                return True\n",
    "    return False"
   ]
  },
  {
   "cell_type": "code",
   "execution_count": 166,
   "metadata": {},
   "outputs": [],
   "source": [
    "invalid = []\n",
    "valid = []\n",
    "i = 0\n",
    "while i < len(inp):\n",
    "    if i < PREAMBLE:\n",
    "        i += 1\n",
    "        continue\n",
    "    x = int(inp[i])\n",
    "    if not can_be_summed(x, inp[i-PREAMBLE:i]):\n",
    "        invalid.append(x)\n",
    "    else:\n",
    "        valid.append(x)\n",
    "    i += 1\n"
   ]
  },
  {
   "cell_type": "code",
   "execution_count": 167,
   "metadata": {},
   "outputs": [],
   "source": [
    "inv = invalid[0]"
   ]
  },
  {
   "cell_type": "code",
   "execution_count": null,
   "metadata": {},
   "outputs": [],
   "source": []
  },
  {
   "cell_type": "code",
   "execution_count": 169,
   "metadata": {},
   "outputs": [
    {
     "data": {
      "text/plain": [
       "1000"
      ]
     },
     "execution_count": 169,
     "metadata": {},
     "output_type": "execute_result"
    }
   ],
   "source": [
    "len(inp)"
   ]
  },
  {
   "cell_type": "code",
   "execution_count": 170,
   "metadata": {
    "scrolled": true
   },
   "outputs": [
    {
     "name": "stdout",
     "output_type": "stream",
     "text": [
      "2\n",
      "3\n",
      "4\n",
      "5\n",
      "6\n",
      "7\n",
      "8\n",
      "9\n",
      "10\n",
      "11\n",
      "12\n",
      "13\n",
      "14\n",
      "15\n",
      "16\n",
      "17\n"
     ]
    }
   ],
   "source": [
    "result = -1\n",
    "i = 0\n",
    "window = 2\n",
    "while result == -1 and window < len(inp):\n",
    "    while i < len(inp):\n",
    "        if i+window > len(inp):\n",
    "            i += 1\n",
    "            continue\n",
    "        context = inp[i:i+window]\n",
    "        if sum(context) == inv:\n",
    "            result = context\n",
    "        i += 1\n",
    "    i = 0\n",
    "    print(window)\n",
    "    window += 1\n",
    "\n"
   ]
  },
  {
   "cell_type": "code",
   "execution_count": 172,
   "metadata": {},
   "outputs": [
    {
     "name": "stdout",
     "output_type": "stream",
     "text": [
      "96081673\n"
     ]
    }
   ],
   "source": [
    "print(min(result) + max(result))"
   ]
  },
  {
   "cell_type": "code",
   "execution_count": null,
   "metadata": {},
   "outputs": [],
   "source": []
  }
 ],
 "metadata": {
  "kernelspec": {
   "display_name": "Python 3",
   "language": "python",
   "name": "python3"
  },
  "language_info": {
   "codemirror_mode": {
    "name": "ipython",
    "version": 3
   },
   "file_extension": ".py",
   "mimetype": "text/x-python",
   "name": "python",
   "nbconvert_exporter": "python",
   "pygments_lexer": "ipython3",
   "version": "3.7.9"
  }
 },
 "nbformat": 4,
 "nbformat_minor": 4
}

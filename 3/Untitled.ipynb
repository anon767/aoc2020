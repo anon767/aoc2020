{
 "cells": [
  {
   "cell_type": "code",
   "execution_count": 5,
   "metadata": {},
   "outputs": [],
   "source": [
    "f = open(\"input.txt\", \"r\")\n",
    "inp = f.read()\n",
    "inp = inp.split(\"\\n\")[:-1]"
   ]
  },
  {
   "cell_type": "code",
   "execution_count": 18,
   "metadata": {},
   "outputs": [],
   "source": [
    "def traverse(down=1, right=3):\n",
    "    column = 0\n",
    "    row = 0\n",
    "    mod = len(inp[0])\n",
    "    trees = 0\n",
    "    while row < len(inp):\n",
    "        if inp[row][column % mod] == \"#\":\n",
    "            trees += 1\n",
    "        column += right\n",
    "        row += down\n",
    "    return trees"
   ]
  },
  {
   "cell_type": "code",
   "execution_count": 19,
   "metadata": {},
   "outputs": [
    {
     "name": "stdout",
     "output_type": "stream",
     "text": [
      "77\n",
      "280\n",
      "74\n",
      "78\n",
      "35\n"
     ]
    }
   ],
   "source": [
    "tries = [[1, 1], [1, 3], [1, 5], [1, 7], [2, 1]]\n",
    "for down, right in tries:\n",
    "    print(traverse(down, right))"
   ]
  },
  {
   "cell_type": "code",
   "execution_count": 20,
   "metadata": {},
   "outputs": [
    {
     "data": {
      "text/plain": [
       "4355551200"
      ]
     },
     "execution_count": 20,
     "metadata": {},
     "output_type": "execute_result"
    }
   ],
   "source": [
    "77*280*74*78*35"
   ]
  },
  {
   "cell_type": "code",
   "execution_count": null,
   "metadata": {},
   "outputs": [],
   "source": []
  }
 ],
 "metadata": {
  "kernelspec": {
   "display_name": "Python 3",
   "language": "python",
   "name": "python3"
  },
  "language_info": {
   "codemirror_mode": {
    "name": "ipython",
    "version": 3
   },
   "file_extension": ".py",
   "mimetype": "text/x-python",
   "name": "python",
   "nbconvert_exporter": "python",
   "pygments_lexer": "ipython3",
   "version": "3.7.9"
  }
 },
 "nbformat": 4,
 "nbformat_minor": 4
}
